{
 "cells": [
  {
   "cell_type": "code",
   "execution_count": 22,
   "metadata": {},
   "outputs": [
    {
     "data": {
      "text/plain": [
       "'\"{\\\\\"schema\\\\\":{\\\\\"fields\\\\\":[{\\\\\"name\\\\\":\\\\\"End Date\\\\\",\\\\\"type\\\\\":\\\\\"string\\\\\"},{\\\\\"name\\\\\":\\\\\"std_TWIDX\\\\\",\\\\\"type\\\\\":\\\\\"number\\\\\"},{\\\\\"name\\\\\":\\\\\"std_AUM\\\\\",\\\\\"type\\\\\":\\\\\"number\\\\\"}],\\\\\"primaryKey\\\\\":[\\\\\"End Date\\\\\"],\\\\\"pandas_version\\\\\":\\\\\"0.20.0\\\\\"},\\\\\"data\\\\\":[{\\\\\"End Date\\\\\":\\\\\"2022-03-02\\\\\",\\\\\"std_TWIDX\\\\\":1.0,\\\\\"std_AUM\\\\\":1.0},{\\\\\"End Date\\\\\":\\\\\"2022-03-23\\\\\",\\\\\"std_TWIDX\\\\\":0.9858807425,\\\\\"std_AUM\\\\\":0.9957533333},{\\\\\"End Date\\\\\":\\\\\"2022-03-29\\\\\",\\\\\"std_TWIDX\\\\\":0.9788672077,\\\\\"std_AUM\\\\\":1.0012797643},{\\\\\"End Date\\\\\":\\\\\"2022-03-30\\\\\",\\\\\"std_TWIDX\\\\\":0.9804679228,\\\\\"std_AUM\\\\\":1.002539708},{\\\\\"End Date\\\\\":\\\\\"2022-04-01\\\\\",\\\\\"std_TWIDX\\\\\":0.988558658,\\\\\"std_AUM\\\\\":0.9888115976},{\\\\\"End Date\\\\\":\\\\\"2022-04-13\\\\\",\\\\\"std_TWIDX\\\\\":0.9493056584,\\\\\"std_AUM\\\\\":0.9970245504},{\\\\\"End Date\\\\\":\\\\\"2022-04-20\\\\\",\\\\\"std_TWIDX\\\\\":0.9494447781,\\\\\"std_AUM\\\\\":1.0030066977},{\\\\\"End Date\\\\\":\\\\\"2022-04-26\\\\\",\\\\\"std_TWIDX\\\\\":0.9293000712,\\\\\"std_AUM\\\\\":1.0023883736},{\\\\\"End Date\\\\\":\\\\\"2022-04-27\\\\\",\\\\\"std_TWIDX\\\\\":0.9299674549,\\\\\"std_AUM\\\\\":1.009811944},{\\\\\"End Date\\\\\":\\\\\"2022-05-04\\\\\",\\\\\"std_TWIDX\\\\\":0.9218163787,\\\\\"std_AUM\\\\\":1.0210861973},{\\\\\"End Date\\\\\":\\\\\"2022-05-10\\\\\",\\\\\"std_TWIDX\\\\\":0.8910565744,\\\\\"std_AUM\\\\\":1.017256123},{\\\\\"End Date\\\\\":\\\\\"2022-05-11\\\\\",\\\\\"std_TWIDX\\\\\":0.8973894096,\\\\\"std_AUM\\\\\":1.0293734386}]}\"'"
      ]
     },
     "execution_count": 22,
     "metadata": {},
     "output_type": "execute_result"
    }
   ],
   "source": [
    "import pandas as pd\n",
    "import json\n",
    "\n",
    "TradeHistory = pd.read_excel('TradeHistory.xlsx', index_col=0)\n",
    "TradeHistory = TradeHistory[['std_TWIDX', 'std_AUM']]\n",
    "\n",
    "TradeHistory.index = TradeHistory.index.astype(str)\n",
    "TradeHistory = TradeHistory.to_json(orient=\"table\")\n",
    "\n",
    "json.dumps(TradeHistory)\n",
    "\n"
   ]
  },
  {
   "cell_type": "code",
   "execution_count": 18,
   "metadata": {},
   "outputs": [
    {
     "data": {
      "text/plain": [
       "'{\"std_TWIDX\":{\"2022-03-02\":1.0,\"2022-03-23\":0.9858807425,\"2022-03-29\":0.9788672077,\"2022-03-30\":0.9804679228,\"2022-04-01\":0.988558658,\"2022-04-13\":0.9493056584,\"2022-04-20\":0.9494447781,\"2022-04-26\":0.9293000712,\"2022-04-27\":0.9299674549,\"2022-05-04\":0.9218163787,\"2022-05-10\":0.8910565744,\"2022-05-11\":0.8973894096},\"std_AUM\":{\"2022-03-02\":1.0,\"2022-03-23\":0.9957533333,\"2022-03-29\":1.0012797643,\"2022-03-30\":1.002539708,\"2022-04-01\":0.9888115976,\"2022-04-13\":0.9970245504,\"2022-04-20\":1.0030066977,\"2022-04-26\":1.0023883736,\"2022-04-27\":1.009811944,\"2022-05-04\":1.0210861973,\"2022-05-10\":1.017256123,\"2022-05-11\":1.0293734386}}'"
      ]
     },
     "execution_count": 18,
     "metadata": {},
     "output_type": "execute_result"
    }
   ],
   "source": [
    "TradeHistory.index = TradeHistory.index.astype(str)\n",
    "TradeHistory.to_json()"
   ]
  }
 ],
 "metadata": {
  "interpreter": {
   "hash": "7bce0f5d1811a44fb9a61832ae739ec1d1b9e067266083b684502aa989272a29"
  },
  "kernelspec": {
   "display_name": "Python 3.8.5 ('base')",
   "language": "python",
   "name": "python3"
  },
  "language_info": {
   "codemirror_mode": {
    "name": "ipython",
    "version": 3
   },
   "file_extension": ".py",
   "mimetype": "text/x-python",
   "name": "python",
   "nbconvert_exporter": "python",
   "pygments_lexer": "ipython3",
   "version": "3.8.5"
  },
  "orig_nbformat": 4
 },
 "nbformat": 4,
 "nbformat_minor": 2
}
